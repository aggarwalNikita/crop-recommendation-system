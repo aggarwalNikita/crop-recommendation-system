{
 "cells": [
  {
   "cell_type": "code",
   "execution_count": 3,
   "id": "0e207f45-1b9d-419e-bdf9-22ea0f0cf35c",
   "metadata": {},
   "outputs": [],
   "source": [
    "import pandas as pd\n",
    "import numpy as np\n",
    "import matplotlib.pyplot as plt\n",
    "import seaborn as sns\n",
    "import joblib\n",
    "from sklearn.model_selection import train_test_split\n",
    "from sklearn.preprocessing import LabelEncoder\n",
    "from sklearn.ensemble import RandomForestClassifier\n",
    "from sklearn.metrics import classification_report, accuracy_score,confusion_matrix\n"
   ]
  },
  {
   "cell_type": "code",
   "execution_count": 4,
   "id": "dbc6d03f-ba34-4cf4-aacd-74c1b55fa829",
   "metadata": {},
   "outputs": [],
   "source": [
    "# Load Both Datasets\n",
    "df1 = pd.read_csv('indian_crop_weather.csv')\n",
    "df2 = pd.read_csv('crop_recommendation.csv')\n"
   ]
  },
  {
   "cell_type": "code",
   "execution_count": 5,
   "id": "30d4a5fb-1571-40b9-bf8f-bc0d66438aaf",
   "metadata": {},
   "outputs": [
    {
     "data": {
      "text/html": [
       "<div>\n",
       "<style scoped>\n",
       "    .dataframe tbody tr th:only-of-type {\n",
       "        vertical-align: middle;\n",
       "    }\n",
       "\n",
       "    .dataframe tbody tr th {\n",
       "        vertical-align: top;\n",
       "    }\n",
       "\n",
       "    .dataframe thead th {\n",
       "        text-align: right;\n",
       "    }\n",
       "</style>\n",
       "<table border=\"1\" class=\"dataframe\">\n",
       "  <thead>\n",
       "    <tr style=\"text-align: right;\">\n",
       "      <th></th>\n",
       "      <th>Dist Code</th>\n",
       "      <th>Year</th>\n",
       "      <th>State Code</th>\n",
       "      <th>State Name</th>\n",
       "      <th>Dist Name</th>\n",
       "      <th>Crop</th>\n",
       "      <th>Area_ha</th>\n",
       "      <th>Yield_kg_per_ha</th>\n",
       "      <th>N_req_kg_per_ha</th>\n",
       "      <th>P_req_kg_per_ha</th>\n",
       "      <th>K_req_kg_per_ha</th>\n",
       "      <th>Total_N_kg</th>\n",
       "      <th>Total_P_kg</th>\n",
       "      <th>Total_K_kg</th>\n",
       "      <th>Temperature_C</th>\n",
       "      <th>Humidity_%</th>\n",
       "      <th>pH</th>\n",
       "      <th>Rainfall_mm</th>\n",
       "      <th>Wind_Speed_m_s</th>\n",
       "      <th>Solar_Radiation_MJ_m2_day</th>\n",
       "    </tr>\n",
       "  </thead>\n",
       "  <tbody>\n",
       "    <tr>\n",
       "      <th>0</th>\n",
       "      <td>1</td>\n",
       "      <td>1966</td>\n",
       "      <td>14</td>\n",
       "      <td>Chhattisgarh</td>\n",
       "      <td>Durg</td>\n",
       "      <td>rice</td>\n",
       "      <td>548000.0</td>\n",
       "      <td>337.59</td>\n",
       "      <td>8.43975</td>\n",
       "      <td>4.05108</td>\n",
       "      <td>7.42698</td>\n",
       "      <td>4624983.00</td>\n",
       "      <td>2219991.84</td>\n",
       "      <td>4069985.04</td>\n",
       "      <td>25</td>\n",
       "      <td>80</td>\n",
       "      <td>6.5</td>\n",
       "      <td>1200</td>\n",
       "      <td>2.0</td>\n",
       "      <td>18</td>\n",
       "    </tr>\n",
       "    <tr>\n",
       "      <th>1</th>\n",
       "      <td>1</td>\n",
       "      <td>1966</td>\n",
       "      <td>14</td>\n",
       "      <td>Chhattisgarh</td>\n",
       "      <td>Durg</td>\n",
       "      <td>maize</td>\n",
       "      <td>3000.0</td>\n",
       "      <td>666.67</td>\n",
       "      <td>18.00009</td>\n",
       "      <td>8.00004</td>\n",
       "      <td>11.33339</td>\n",
       "      <td>54000.27</td>\n",
       "      <td>24000.12</td>\n",
       "      <td>34000.17</td>\n",
       "      <td>22</td>\n",
       "      <td>70</td>\n",
       "      <td>6.0</td>\n",
       "      <td>800</td>\n",
       "      <td>2.5</td>\n",
       "      <td>20</td>\n",
       "    </tr>\n",
       "    <tr>\n",
       "      <th>2</th>\n",
       "      <td>1</td>\n",
       "      <td>1966</td>\n",
       "      <td>14</td>\n",
       "      <td>Chhattisgarh</td>\n",
       "      <td>Durg</td>\n",
       "      <td>chickpea</td>\n",
       "      <td>54000.0</td>\n",
       "      <td>500.00</td>\n",
       "      <td>9.00000</td>\n",
       "      <td>5.00000</td>\n",
       "      <td>9.00000</td>\n",
       "      <td>486000.00</td>\n",
       "      <td>270000.00</td>\n",
       "      <td>486000.00</td>\n",
       "      <td>20</td>\n",
       "      <td>60</td>\n",
       "      <td>6.5</td>\n",
       "      <td>600</td>\n",
       "      <td>1.5</td>\n",
       "      <td>16</td>\n",
       "    </tr>\n",
       "    <tr>\n",
       "      <th>3</th>\n",
       "      <td>1</td>\n",
       "      <td>1967</td>\n",
       "      <td>14</td>\n",
       "      <td>Chhattisgarh</td>\n",
       "      <td>Durg</td>\n",
       "      <td>rice</td>\n",
       "      <td>547000.0</td>\n",
       "      <td>747.71</td>\n",
       "      <td>18.69275</td>\n",
       "      <td>8.97252</td>\n",
       "      <td>16.44962</td>\n",
       "      <td>10224934.25</td>\n",
       "      <td>4907968.44</td>\n",
       "      <td>8997942.14</td>\n",
       "      <td>25</td>\n",
       "      <td>80</td>\n",
       "      <td>6.5</td>\n",
       "      <td>1200</td>\n",
       "      <td>2.0</td>\n",
       "      <td>18</td>\n",
       "    </tr>\n",
       "    <tr>\n",
       "      <th>4</th>\n",
       "      <td>1</td>\n",
       "      <td>1967</td>\n",
       "      <td>14</td>\n",
       "      <td>Chhattisgarh</td>\n",
       "      <td>Durg</td>\n",
       "      <td>maize</td>\n",
       "      <td>3000.0</td>\n",
       "      <td>1000.00</td>\n",
       "      <td>27.00000</td>\n",
       "      <td>12.00000</td>\n",
       "      <td>17.00000</td>\n",
       "      <td>81000.00</td>\n",
       "      <td>36000.00</td>\n",
       "      <td>51000.00</td>\n",
       "      <td>22</td>\n",
       "      <td>70</td>\n",
       "      <td>6.0</td>\n",
       "      <td>800</td>\n",
       "      <td>2.5</td>\n",
       "      <td>20</td>\n",
       "    </tr>\n",
       "  </tbody>\n",
       "</table>\n",
       "</div>"
      ],
      "text/plain": [
       "   Dist Code  Year  State Code    State Name Dist Name      Crop   Area_ha  \\\n",
       "0          1  1966          14  Chhattisgarh      Durg      rice  548000.0   \n",
       "1          1  1966          14  Chhattisgarh      Durg     maize    3000.0   \n",
       "2          1  1966          14  Chhattisgarh      Durg  chickpea   54000.0   \n",
       "3          1  1967          14  Chhattisgarh      Durg      rice  547000.0   \n",
       "4          1  1967          14  Chhattisgarh      Durg     maize    3000.0   \n",
       "\n",
       "   Yield_kg_per_ha  N_req_kg_per_ha  P_req_kg_per_ha  K_req_kg_per_ha  \\\n",
       "0           337.59          8.43975          4.05108          7.42698   \n",
       "1           666.67         18.00009          8.00004         11.33339   \n",
       "2           500.00          9.00000          5.00000          9.00000   \n",
       "3           747.71         18.69275          8.97252         16.44962   \n",
       "4          1000.00         27.00000         12.00000         17.00000   \n",
       "\n",
       "    Total_N_kg  Total_P_kg  Total_K_kg  Temperature_C  Humidity_%   pH  \\\n",
       "0   4624983.00  2219991.84  4069985.04             25          80  6.5   \n",
       "1     54000.27    24000.12    34000.17             22          70  6.0   \n",
       "2    486000.00   270000.00   486000.00             20          60  6.5   \n",
       "3  10224934.25  4907968.44  8997942.14             25          80  6.5   \n",
       "4     81000.00    36000.00    51000.00             22          70  6.0   \n",
       "\n",
       "   Rainfall_mm  Wind_Speed_m_s  Solar_Radiation_MJ_m2_day  \n",
       "0         1200             2.0                         18  \n",
       "1          800             2.5                         20  \n",
       "2          600             1.5                         16  \n",
       "3         1200             2.0                         18  \n",
       "4          800             2.5                         20  "
      ]
     },
     "execution_count": 5,
     "metadata": {},
     "output_type": "execute_result"
    }
   ],
   "source": [
    "df1.head()"
   ]
  },
  {
   "cell_type": "code",
   "execution_count": 6,
   "id": "26418103-5908-4066-83b5-10121e05591a",
   "metadata": {},
   "outputs": [
    {
     "data": {
      "text/html": [
       "<div>\n",
       "<style scoped>\n",
       "    .dataframe tbody tr th:only-of-type {\n",
       "        vertical-align: middle;\n",
       "    }\n",
       "\n",
       "    .dataframe tbody tr th {\n",
       "        vertical-align: top;\n",
       "    }\n",
       "\n",
       "    .dataframe thead th {\n",
       "        text-align: right;\n",
       "    }\n",
       "</style>\n",
       "<table border=\"1\" class=\"dataframe\">\n",
       "  <thead>\n",
       "    <tr style=\"text-align: right;\">\n",
       "      <th></th>\n",
       "      <th>N</th>\n",
       "      <th>P</th>\n",
       "      <th>K</th>\n",
       "      <th>temperature</th>\n",
       "      <th>humidity</th>\n",
       "      <th>ph</th>\n",
       "      <th>rainfall</th>\n",
       "      <th>label</th>\n",
       "    </tr>\n",
       "  </thead>\n",
       "  <tbody>\n",
       "    <tr>\n",
       "      <th>0</th>\n",
       "      <td>90</td>\n",
       "      <td>42</td>\n",
       "      <td>43</td>\n",
       "      <td>20.879744</td>\n",
       "      <td>82.002744</td>\n",
       "      <td>6.502985</td>\n",
       "      <td>202.935536</td>\n",
       "      <td>rice</td>\n",
       "    </tr>\n",
       "    <tr>\n",
       "      <th>1</th>\n",
       "      <td>85</td>\n",
       "      <td>58</td>\n",
       "      <td>41</td>\n",
       "      <td>21.770462</td>\n",
       "      <td>80.319644</td>\n",
       "      <td>7.038096</td>\n",
       "      <td>226.655537</td>\n",
       "      <td>rice</td>\n",
       "    </tr>\n",
       "    <tr>\n",
       "      <th>2</th>\n",
       "      <td>60</td>\n",
       "      <td>55</td>\n",
       "      <td>44</td>\n",
       "      <td>23.004459</td>\n",
       "      <td>82.320763</td>\n",
       "      <td>7.840207</td>\n",
       "      <td>263.964248</td>\n",
       "      <td>rice</td>\n",
       "    </tr>\n",
       "    <tr>\n",
       "      <th>3</th>\n",
       "      <td>74</td>\n",
       "      <td>35</td>\n",
       "      <td>40</td>\n",
       "      <td>26.491096</td>\n",
       "      <td>80.158363</td>\n",
       "      <td>6.980401</td>\n",
       "      <td>242.864034</td>\n",
       "      <td>rice</td>\n",
       "    </tr>\n",
       "    <tr>\n",
       "      <th>4</th>\n",
       "      <td>78</td>\n",
       "      <td>42</td>\n",
       "      <td>42</td>\n",
       "      <td>20.130175</td>\n",
       "      <td>81.604873</td>\n",
       "      <td>7.628473</td>\n",
       "      <td>262.717340</td>\n",
       "      <td>rice</td>\n",
       "    </tr>\n",
       "  </tbody>\n",
       "</table>\n",
       "</div>"
      ],
      "text/plain": [
       "    N   P   K  temperature   humidity        ph    rainfall label\n",
       "0  90  42  43    20.879744  82.002744  6.502985  202.935536  rice\n",
       "1  85  58  41    21.770462  80.319644  7.038096  226.655537  rice\n",
       "2  60  55  44    23.004459  82.320763  7.840207  263.964248  rice\n",
       "3  74  35  40    26.491096  80.158363  6.980401  242.864034  rice\n",
       "4  78  42  42    20.130175  81.604873  7.628473  262.717340  rice"
      ]
     },
     "execution_count": 6,
     "metadata": {},
     "output_type": "execute_result"
    }
   ],
   "source": [
    "df2.head()"
   ]
  },
  {
   "cell_type": "code",
   "execution_count": 7,
   "id": "b4fcdf9a-e2cb-4c1e-baa4-2597ceb2ba1b",
   "metadata": {},
   "outputs": [
    {
     "name": "stdout",
     "output_type": "stream",
     "text": [
      "\n",
      "Renamed df1 columns: ['Dist Code', 'Year', 'State Code', 'State Name', 'District', 'label', 'Area_ha', 'Production', 'N_req_kg_per_ha', 'P_req_kg_per_ha', 'K_req_kg_per_ha', 'Total_N_kg', 'Total_P_kg', 'Total_K_kg', 'temperature', 'humidity', 'ph', 'rainfall', 'Wind_Speed_m_s', 'Solar_Radiation_MJ_m2_day']\n"
     ]
    }
   ],
   "source": [
    "df1.rename(columns={\n",
    "    \"Temperature_C\": \"temperature\",\n",
    "    \"Humidity_%\": \"humidity\",\n",
    "    \"Rainfall_mm\": \"rainfall\",\n",
    "    \"Crop\": \"label\",\n",
    "    \"pH\": \"ph\",\n",
    "    \"Yield_kg_per_ha\": \"Production\",\n",
    "    \"Dist Name\": \"District\"\n",
    "}, inplace=True)\n",
    "# for debugging\n",
    "print(\"\\nRenamed df1 columns:\", df1.columns.tolist()) "
   ]
  },
  {
   "cell_type": "code",
   "execution_count": 8,
   "id": "3ba05836-769c-45fc-864a-53ab013fcc9b",
   "metadata": {},
   "outputs": [],
   "source": [
    "# filter Required Columns\n",
    "df1_filtered = df1[[\"temperature\", \"humidity\", \"ph\", \"rainfall\", \"label\", \"Production\",\"District\"]].copy()\n",
    "df2_filtered = df2[[\"temperature\", \"humidity\", \"ph\", \"rainfall\", \"label\"]].copy()\n",
    "df2_filtered[\"Production\"] = np.nan\n",
    "filler_district = \"Unknown\"\n",
    "df2_filtered[\"District\"] = filler_district"
   ]
  },
  {
   "cell_type": "code",
   "execution_count": 9,
   "id": "48816423-5d33-4039-a5a2-61cd5ec7ea8b",
   "metadata": {},
   "outputs": [
    {
     "name": "stdout",
     "output_type": "stream",
     "text": [
      "Columns in balanced_df: ['temperature', 'humidity', 'ph', 'rainfall', 'label', 'Production', 'District']\n"
     ]
    }
   ],
   "source": [
    " # Combining Both Datasets \n",
    "balanced_df = pd.concat([df1_filtered, df2_filtered], ignore_index=True)\n",
    "print(\"Columns in balanced_df:\", balanced_df.columns.tolist())\n",
    "\n"
   ]
  },
  {
   "cell_type": "code",
   "execution_count": 10,
   "id": "8a15bcc4-4ea6-477e-af55-a30d3f75d749",
   "metadata": {},
   "outputs": [
    {
     "name": "stdout",
     "output_type": "stream",
     "text": [
      "\n",
      "Crop Distribution (Before Encoding):\n"
     ]
    },
    {
     "ename": "NameError",
     "evalue": "name 'merged_df' is not defined",
     "output_type": "error",
     "traceback": [
      "\u001b[31m---------------------------------------------------------------------------\u001b[39m",
      "\u001b[31mNameError\u001b[39m                                 Traceback (most recent call last)",
      "\u001b[36mCell\u001b[39m\u001b[36m \u001b[39m\u001b[32mIn[10]\u001b[39m\u001b[32m, line 3\u001b[39m\n\u001b[32m      1\u001b[39m \u001b[38;5;66;03m#  Checking class distribution before encoding\u001b[39;00m\n\u001b[32m      2\u001b[39m \u001b[38;5;28mprint\u001b[39m(\u001b[33m\"\u001b[39m\u001b[38;5;130;01m\\n\u001b[39;00m\u001b[33mCrop Distribution (Before Encoding):\u001b[39m\u001b[33m\"\u001b[39m)\n\u001b[32m----> \u001b[39m\u001b[32m3\u001b[39m \u001b[38;5;28mprint\u001b[39m(\u001b[43mmerged_df\u001b[49m[\u001b[33m'\u001b[39m\u001b[33mlabel\u001b[39m\u001b[33m'\u001b[39m].value_counts())\n\u001b[32m      5\u001b[39m plt.figure(figsize=(\u001b[32m12\u001b[39m,\u001b[32m6\u001b[39m))\n\u001b[32m      6\u001b[39m merged_df[\u001b[33m'\u001b[39m\u001b[33mlabel\u001b[39m\u001b[33m'\u001b[39m].value_counts().plot(kind=\u001b[33m'\u001b[39m\u001b[33mbar\u001b[39m\u001b[33m'\u001b[39m,color=\u001b[33m\"\u001b[39m\u001b[33mlightgreen\u001b[39m\u001b[33m\"\u001b[39m)\n",
      "\u001b[31mNameError\u001b[39m: name 'merged_df' is not defined"
     ]
    }
   ],
   "source": [
    "#  Checking class distribution before encoding\n",
    "print(\"\\nCrop Distribution (Before Encoding):\")\n",
    "print(merged_df['label'].value_counts())\n",
    "\n",
    "plt.figure(figsize=(12,6))\n",
    "merged_df['label'].value_counts().plot(kind='bar',color=\"lightgreen\")\n",
    "plt.title(\"Crop Distribution (Raw Labels)\")\n",
    "plt.ylabel(\"Number of Samples\")\n",
    "plt.xticks(rotation=45)\n",
    "plt.tight_layout()\n",
    "plt.show()\n"
   ]
  },
  {
   "cell_type": "code",
   "execution_count": null,
   "id": "1a5b1a1e-617b-497a-be4a-7745205509cc",
   "metadata": {},
   "outputs": [],
   "source": [
    "# Encode Crop Labels \n",
    "le = LabelEncoder()\n",
    "balanced_df['label'] = le.fit_transform(balanced_df['label'].astype(str))\n",
    "\n",
    "print(\"\\nLabel Mapping:\")\n",
    "for i, crop in enumerate(le.classes_):\n",
    "    print(f\"{i}: {crop}\")\n"
   ]
  },
  {
   "cell_type": "code",
   "execution_count": null,
   "id": "4a825112-58b4-44ef-a1fb-ab434f370a8e",
   "metadata": {},
   "outputs": [],
   "source": [
    "# Encode district \n",
    "district_encoder = LabelEncoder()\n",
    "balanced_df['District'] = district_encoder.fit_transform(balanced_df['District'].astype(str))\n"
   ]
  },
  {
   "cell_type": "code",
   "execution_count": null,
   "id": "df48caf5-266e-439d-baa4-652bd8b2f7d6",
   "metadata": {},
   "outputs": [],
   "source": [
    "# Prepare Features and Labels \n",
    "X = balanced_df.drop([\"label\",\"Production\"], axis=1)\n",
    "y = balanced_df[\"label\"]\n"
   ]
  },
  {
   "cell_type": "code",
   "execution_count": null,
   "id": "ffb5c448-431a-488f-b2d1-e8c4f5f32b85",
   "metadata": {},
   "outputs": [],
   "source": [
    "X_train, X_test, y_train, y_test = train_test_split(X, y, test_size=0.2, random_state=42)\n"
   ]
  },
  {
   "cell_type": "code",
   "execution_count": null,
   "id": "88fd19a1-b4ce-44a4-b93c-00aedf240b4e",
   "metadata": {},
   "outputs": [],
   "source": [
    "model = RandomForestClassifier(n_estimators=200, max_depth=10, random_state=42)\n",
    "model.fit(X_train, y_train)\n",
    "print(\"\\nTraining Data Ranges:\")\n",
    "for col in X.columns:\n",
    "    print(f\"{col}: min = {X[col].min()}, max = {X[col].max()}\")"
   ]
  },
  {
   "cell_type": "code",
   "execution_count": null,
   "id": "eb71b0ad-0c35-44ee-ba0a-6b9e5483ee53",
   "metadata": {},
   "outputs": [],
   "source": [
    "# Evaluate Model \n",
    "y_pred = model.predict(X_test)\n",
    "print(\"\\nAccuracy:\", accuracy_score(y_test, y_pred))\n",
    "print(\"\\nClassification Report:\\n\", classification_report(y_test, y_pred))\n",
    "print(\"\\nConfusion Matrix:\\n\", confusion_matrix(y_test, y_pred))"
   ]
  },
  {
   "cell_type": "code",
   "execution_count": null,
   "id": "e5fd22f4-61a0-4eb9-8bd2-f56e7ccde599",
   "metadata": {},
   "outputs": [],
   "source": [
    "# feature Importance\n",
    "feature_importances = pd.Series(model.feature_importances_, index=X.columns)\n",
    "feature_importances.sort_values().plot(kind='barh', figsize=(8,4), color=\"skyblue\")\n",
    "plt.title(\"Feature Importance\")\n",
    "plt.xlabel(\"Importance Score\")\n",
    "plt.ylabel(\"Feature\")\n",
    "plt.tight_layout()\n",
    "plt.show()"
   ]
  },
  {
   "cell_type": "code",
   "execution_count": null,
   "id": "29b83b48-2d3c-4105-abe2-f8be4ff83e8e",
   "metadata": {},
   "outputs": [],
   "source": [
    "# Yield Info Lookup Function\n",
    "def get_yield_info(crop_name):\n",
    "    crop_rows = balanced_df[balanced_df['label'] == le.transform([crop_name])[0]]\n",
    "    valid_production = crop_rows['Production'].dropna()\n",
    "    if valid_production.empty:\n",
    "        return \" No production data available.\"\n",
    "    return f\"Average Yield: {valid_production.mean():.2f} kg/ha\""
   ]
  },
  {
   "cell_type": "code",
   "execution_count": null,
   "id": "adb40420-5800-4edf-8037-133a43c699e5",
   "metadata": {},
   "outputs": [],
   "source": [
    "# predicting function\n",
    "def recommend_crop(temp, hum, ph, rain, district_name):\n",
    "    if district_name not in district_encoder.classes_:\n",
    "        return \"District not recognized. Please enter a valid district.\"\n",
    "\n",
    "    district_code = district_encoder.transform([district_name])[0]\n",
    "\n",
    "    if not (8.8 <= temp <= 43.6 and 14 <= hum <= 99.9 and 3.5 <= ph <= 9.9 and 20 <= rain <= 1200):\n",
    "        return \"Input values are out of training data range. Please enter realistic values.\"\n",
    "\n",
    "    input_df = pd.DataFrame([[temp, hum, ph, rain, district_code]], columns=X.columns)\n",
    "    prediction = model.predict(input_df)\n",
    "    predicted_crop = le.inverse_transform(prediction)[0]\n",
    "    yield_info = get_yield_info(predicted_crop)\n",
    "   c"
   ]
  },
  {
   "cell_type": "code",
   "execution_count": null,
   "id": "24af55cc-89ad-4a63-b825-286a2572a944",
   "metadata": {},
   "outputs": [],
   "source": [
    "# Test the Function \n",
    "print(\"\\n,Recommended Crop:\", recommend_crop(26, 80, 6.5, 1200,\"Durg\"))\n"
   ]
  },
  {
   "cell_type": "code",
   "execution_count": null,
   "id": "1dcf4384-b895-407a-8e4f-a590e4c96178",
   "metadata": {},
   "outputs": [],
   "source": [
    "# Save Model and Label Encoder \n",
    "joblib.dump(model, \"crop_recommendation_model.pkl\")\n",
    "joblib.dump(le, \"label_encoder.pkl\")\n",
    "joblib.dump(district_encoder, \"district_encoder.pkl\")\n",
    "print(\"\\n Model and encoders saved successfully!\")"
   ]
  },
  {
   "cell_type": "code",
   "execution_count": null,
   "id": "dc81f25e-ced7-4ce0-ad36-a702c72afbe0",
   "metadata": {},
   "outputs": [],
   "source": [
    "recommend_crop(27.5, 85, 6.8, 1000, \"Aligarh\")"
   ]
  },
  {
   "cell_type": "code",
   "execution_count": null,
   "id": "3208e1d2-42bb-4cab-a7a2-fb7ac4efabf1",
   "metadata": {},
   "outputs": [],
   "source": [
    "recommend_crop(30.2, 70, 7.2, 800, \"Gorakhpur\")"
   ]
  },
  {
   "cell_type": "code",
   "execution_count": null,
   "id": "9474756b-7457-45c5-a8ba-501d3860f6cd",
   "metadata": {},
   "outputs": [],
   "source": [
    "recommend_crop(31.0, 60, 7.5, 350, \"Lucknow\")"
   ]
  },
  {
   "cell_type": "code",
   "execution_count": 11,
   "id": "fffce214-e6d9-40da-b2d3-8f928b067243",
   "metadata": {},
   "outputs": [
    {
     "name": "stdout",
     "output_type": "stream",
     "text": [
      "Current Working Directory: C:\\Users\\nikki\n"
     ]
    }
   ],
   "source": [
    "import os\n",
    "print(\"Current Working Directory:\", os.getcwd())\n"
   ]
  },
  {
   "cell_type": "code",
   "execution_count": null,
   "id": "2e414201-e5eb-4e12-bf2e-6f2cf993de87",
   "metadata": {},
   "outputs": [],
   "source": []
  }
 ],
 "metadata": {
  "kernelspec": {
   "display_name": "Python 3 (ipykernel)",
   "language": "python",
   "name": "python3"
  },
  "language_info": {
   "codemirror_mode": {
    "name": "ipython",
    "version": 3
   },
   "file_extension": ".py",
   "mimetype": "text/x-python",
   "name": "python",
   "nbconvert_exporter": "python",
   "pygments_lexer": "ipython3",
   "version": "3.13.3"
  }
 },
 "nbformat": 4,
 "nbformat_minor": 5
}
